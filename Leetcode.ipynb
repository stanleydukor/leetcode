{
 "cells": [
  {
   "cell_type": "code",
   "execution_count": 148,
   "metadata": {},
   "outputs": [
    {
     "data": {
      "text/plain": [
       "[0, 1, 1, 0]"
      ]
     },
     "execution_count": 148,
     "metadata": {},
     "output_type": "execute_result"
    }
   ],
   "source": [
    "# adding two n-bits binary integers\n",
    "\n",
    "def addBinary(A, B):\n",
    "    C = []\n",
    "    carry = 0\n",
    "    i = len(A)-1\n",
    "    while(i>=0):\n",
    "        add = (A[i] + B[i] + carry)%2\n",
    "        C.append(add)\n",
    "        if (A[i] + B[i] + carry) >= 2:\n",
    "            carry = 1\n",
    "        else:\n",
    "            carry = 0\n",
    "        i -= 1\n",
    "    C.append(carry)\n",
    "    return C[::-1]\n",
    "\n",
    "addBinary([1, 0, 1], [0, 0, 1])"
   ]
  },
  {
   "cell_type": "code",
   "execution_count": null,
   "metadata": {},
   "outputs": [],
   "source": [
    "def twoNumberSum(array, targetSum):\n",
    "    # Write your code here.\n",
    "    sets = set(array)\n",
    "    arr = []\n",
    "    for i in array:\n",
    "        if (targetSum-i) in sets and (targetSum-i)!=i:\n",
    "            arr.append(targetSum-i)\n",
    "            arr.append(i)\n",
    "            break\n",
    "    return sorted(arr)\n",
    "twoNumberSum([4, 5, 11, -1], 10)"
   ]
  },
  {
   "cell_type": "code",
   "execution_count": 149,
   "metadata": {},
   "outputs": [
    {
     "data": {
      "text/plain": [
       "[[-8, 2, 6], [-8, 3, 5], [-6, 1, 5]]"
      ]
     },
     "execution_count": 149,
     "metadata": {},
     "output_type": "execute_result"
    }
   ],
   "source": [
    "import itertools\n",
    "def threeNumberSum(nums, targetSum):\n",
    "    # Write your code here.\n",
    "    sets = set(nums)\n",
    "    main_arr = []\n",
    "    for i in range(len(nums)):\n",
    "        arr = []\n",
    "        for j in range(i+1, len(nums)):\n",
    "            if (targetSum-(nums[i]+nums[j])) in sets and (targetSum-(nums[i]+nums[j])!=nums[i] and (targetSum-(nums[i]+nums[j])!=nums[j])):                \n",
    "                arr.append(targetSum-(nums[i]+nums[j]))\n",
    "                arr.append(nums[i])\n",
    "                arr.append(nums[j])\n",
    "                main_arr.append(sorted(arr))\n",
    "                break\n",
    "    main_arr.sort()\n",
    "    return list(k for k,_ in itertools.groupby(main_arr))\n",
    "\n",
    "threeNumberSum([12, 3, 1, 2, -6, 5, -8, 6], 0)"
   ]
  },
  {
   "cell_type": "code",
   "execution_count": 150,
   "metadata": {},
   "outputs": [
    {
     "data": {
      "text/plain": [
       "[[0, 0, 0]]"
      ]
     },
     "execution_count": 150,
     "metadata": {},
     "output_type": "execute_result"
    }
   ],
   "source": [
    "import itertools\n",
    "def threeSum(nums):\n",
    "    # Write your code here.\n",
    "    nums = sorted(nums)\n",
    "    main_arr = []\n",
    "    i_prev = None\n",
    "    for i in range(len(nums)-1):\n",
    "        if nums[i] == i_prev:\n",
    "            continue\n",
    "        sets = set()\n",
    "        j_prev = None\n",
    "        for j in range(i+1, len(nums)):\n",
    "            if nums[j] == j_prev:\n",
    "                continue\n",
    "            arr = []\n",
    "            if 0-(nums[i]+nums[j]) in sets:\n",
    "                arr.append(0-(nums[i]+nums[j]))\n",
    "                arr.append(nums[i])\n",
    "                arr.append(nums[j])\n",
    "                main_arr.append(arr)\n",
    "                j_prev = nums[j]\n",
    "            else:\n",
    "                sets.add(nums[j])\n",
    "        i_prev = nums[i]\n",
    "    return main_arr\n",
    "\n",
    "threeSum([0, 0, 0, 0])"
   ]
  },
  {
   "cell_type": "code",
   "execution_count": null,
   "metadata": {},
   "outputs": [],
   "source": [
    "def maxPairwise(arr):\n",
    "    maxi, runner_maxi = 0\n",
    "    for i in arr:\n",
    "        if i>runner_maxi:\n",
    "            maxi = runner_maxi\n",
    "            runner_maxi = i"
   ]
  },
  {
   "cell_type": "code",
   "execution_count": null,
   "metadata": {},
   "outputs": [],
   "source": [
    "def cellCompete(states, days):\n",
    "    # WRITE YOUR CODE HERE\n",
    "    prev = 0\n",
    "    for i in range(days):\n",
    "        if states[1] == 0:\n",
    "            prev = states[0]\n",
    "            states[0] = 0\n",
    "        else:\n",
    "            prev = states[0]\n",
    "            states[0] = 1\n",
    "        \n",
    "        for i in range(1, len(states)):\n",
    "            if i == len(states)-1:\n",
    "                if prev == 0:\n",
    "                    states[i] = 0\n",
    "                    continue\n",
    "                else:\n",
    "                    states[i] = 1\n",
    "                    continue\n",
    "            if prev==states[i+1]:\n",
    "                prev = states[i]\n",
    "                states[i] = 0\n",
    "            else:\n",
    "                prev = states[i]\n",
    "                states[i] = 1\n",
    "    return states\n",
    "\n",
    "cellCompete([1,1,1,0,1,1,1,1], 2)"
   ]
  },
  {
   "cell_type": "code",
   "execution_count": null,
   "metadata": {},
   "outputs": [],
   "source": [
    "def merge_lists(h1, h2):\n",
    "    if h1 is None:\n",
    "        return h2\n",
    "    if h2 is None:\n",
    "        return h1\n",
    "\n",
    "    if (h1.value < h2.value):\n",
    "        h1.next = merge_lists(h1.next, h2)\n",
    "        return h1\n",
    "    else:\n",
    "        h2.next = merge_lists(h2.next, h1)\n",
    "        return h2"
   ]
  },
  {
   "cell_type": "markdown",
   "metadata": {},
   "source": [
    "Given an array of integers, return a new array such that each element at index i of the new array is the product of all the numbers in the original array except the one at i.\n",
    "\n",
    "For example, if our input was [1, 2, 3, 4, 5], the expected output would be [120, 60, 40, 30, 24]. If our input was [3, 2, 1], the expected output would be [2, 3, 6]."
   ]
  },
  {
   "cell_type": "code",
   "execution_count": null,
   "metadata": {},
   "outputs": [],
   "source": [
    "def productArray(arr):  \n",
    "    n = len(arr)\n",
    "           \n",
    "    left = [0]*n  \n",
    "    right = [0]*n  \n",
    "  \n",
    "    prod = [0]*n  \n",
    "  \n",
    "    left[0] = 1\n",
    "  \n",
    "    right[n - 1] = 1\n",
    "  \n",
    "    for i in range(1, n):  \n",
    "        left[i] = arr[i - 1] * left[i - 1]\n",
    "   \n",
    "    for j in range(n-2, -1, -1):\n",
    "        print(arr[j+1], right[j+1])\n",
    "        right[j] = arr[j + 1] * right[j + 1]  \n",
    "        \n",
    "    print(left)5\n",
    "    print(right)\n",
    "\n",
    "    for i in range(n):  \n",
    "        prod[i] = left[i] * right[i]  \n",
    "\n",
    "    return (prod)\n",
    "  \n",
    "print(productArray([1, 2, 3, 4, 5]))"
   ]
  },
  {
   "cell_type": "markdown",
   "metadata": {},
   "source": [
    "Given an array of integers, find the first missing positive integer in linear time and constant space. In other words, find the lowest positive integer that does not exist in the array. The array can contain duplicates and negative numbers as well.\n",
    "\n",
    "For example, the input [3, 4, -1, 1] should give 2. The input [1, 2, 0] should give 3.\n",
    "\n",
    "You can modify the input array in-place."
   ]
  },
  {
   "cell_type": "code",
   "execution_count": null,
   "metadata": {},
   "outputs": [],
   "source": [
    "def missingInteger(arr):\n",
    "    mini = float('inf')\n",
    "    maxi = 0\n",
    "    \n",
    "    for i in arr:\n",
    "        if i <= 0:\n",
    "            continue\n",
    "        if i < mini:\n",
    "            mini = i\n",
    "        print(mini)\n",
    "        if (mini + 1) == i:\n",
    "            mini = i\n",
    "        if i > maxi:\n",
    "            maxi = i\n",
    "    print(maxi, mini)\n",
    "    if mini!= 1:\n",
    "        return 1\n",
    "    if maxi-mini != mini:\n",
    "        return mini+1\n",
    "    else:\n",
    "        return maxi+1\n",
    "missingInteger([1,2,3,4,5,1,1,1,8])"
   ]
  },
  {
   "cell_type": "code",
   "execution_count": null,
   "metadata": {},
   "outputs": [],
   "source": [
    "def maxDiff(arr):\n",
    "    maxi = 0\n",
    "    mini = float('inf')\n",
    "    max_diff = 0\n",
    "\n",
    "    for i in range(len(arr)-1):\n",
    "        if arr[i+1] > arr[i]:\n",
    "            if mini > arr[i]:\n",
    "                mini = arr[i]\n",
    "        else:\n",
    "            maxi = arr[i]\n",
    "            diff = maxi-mini\n",
    "            if max_diff < diff:\n",
    "                max_diff = diff\n",
    "            mini = float('inf')\n",
    "            \n",
    "    if mini != float('inf'):\n",
    "        maxi = arr[-1]\n",
    "        diff = maxi-mini\n",
    "        if max_diff < diff:\n",
    "            max_diff = diff\n",
    "            \n",
    "    return max_diff\n",
    "\n",
    "arr = [7, 1, 2, 5]\n",
    "# arr = [100, 180, 260, 310, 40, 535, 695]\n",
    "print(maxDiff(arr))"
   ]
  },
  {
   "cell_type": "code",
   "execution_count": null,
   "metadata": {},
   "outputs": [],
   "source": [
    "def mergeSort(arr): \n",
    "    inversion = 0\n",
    "    if len(arr) >1: \n",
    "        mid = len(arr)//2 #Finding the mid of the array \n",
    "        L = arr[:mid] # Dividing the array elements  \n",
    "        R = arr[mid:] # into 2 halves \n",
    "  \n",
    "        mergeSort(L) # Sorting the first half \n",
    "        mergeSort(R) # Sorting the second half \n",
    "  \n",
    "        i = j = k = 0\n",
    "          \n",
    "        # Copy data to temp arrays L[] and R[] \n",
    "        while i < len(L) and j < len(R): \n",
    "            if L[i] < R[j]: \n",
    "                arr[k] = L[i] \n",
    "                i+=1\n",
    "                inversion +=1\n",
    "            else: \n",
    "                arr[k] = R[j] \n",
    "                j+=1\n",
    "            k+=1\n",
    "          \n",
    "        # Checking if any element was left \n",
    "        while i < len(L): \n",
    "            arr[k] = L[i] \n",
    "            i+=1\n",
    "            k+=1\n",
    "          \n",
    "        while j < len(R): \n",
    "            arr[k] = R[j] \n",
    "            j+=1\n",
    "            k+=1\n",
    "    return inversion\n",
    "            \n",
    "mergeSort([5, 4, 3, 2, 1])            "
   ]
  },
  {
   "cell_type": "code",
   "execution_count": 151,
   "metadata": {},
   "outputs": [
    {
     "data": {
      "text/plain": [
       "'1k1a2g1l1e'"
      ]
     },
     "execution_count": 151,
     "metadata": {},
     "output_type": "execute_result"
    }
   ],
   "source": [
    "def stringEncode(string):\n",
    "    if not string:\n",
    "        return 'n/a'\n",
    "    \n",
    "    out = ''\n",
    "    count = 0\n",
    "    prev = string[0]\n",
    "    count += 1\n",
    "\n",
    "    for i in range(1, len(string)):\n",
    "        if string[i] == prev:\n",
    "            count += 1\n",
    "        else:\n",
    "            out += str(count)\n",
    "            out += prev\n",
    "            count = 0\n",
    "            prev = string[i]\n",
    "            count += 1\n",
    "        if i == len(string)-1:\n",
    "            out += str(count)\n",
    "            out += prev\n",
    "        \n",
    "    return out\n",
    "\n",
    "stringEncode('kaggle')"
   ]
  },
  {
   "cell_type": "code",
   "execution_count": 152,
   "metadata": {},
   "outputs": [
    {
     "name": "stdout",
     "output_type": "stream",
     "text": [
      "{'e': 2, 'm': 2, 'k': 1, 'a': 3, 'i': 1, 's': 1, 'n': 1}\n"
     ]
    },
    {
     "data": {
      "text/plain": [
       "'k'"
      ]
     },
     "execution_count": 152,
     "metadata": {},
     "output_type": "execute_result"
    }
   ],
   "source": [
    "def firstUnique(string):\n",
    "    dic = {}\n",
    "    for i in string:\n",
    "        i = i.lower()\n",
    "        if i == ' ':\n",
    "            continue\n",
    "        if i in dic:\n",
    "            dic[i] += 1\n",
    "        else:\n",
    "            dic[i] = 1\n",
    "    print(dic)\n",
    "    for i in dic:\n",
    "        if dic[i] == 1:\n",
    "            return i\n",
    "    return 'n/a'\n",
    "        \n",
    "firstUnique('Emeka is a man')"
   ]
  },
  {
   "cell_type": "code",
   "execution_count": 153,
   "metadata": {},
   "outputs": [
    {
     "data": {
      "text/plain": [
       "18"
      ]
     },
     "execution_count": 153,
     "metadata": {},
     "output_type": "execute_result"
    }
   ],
   "source": [
    "def mult(a, b):\n",
    "    count = 0\n",
    "    for i in range(a):\n",
    "        for i in range(b):\n",
    "            count += 1\n",
    "    return count\n",
    "\n",
    "mult(6, 3)"
   ]
  },
  {
   "cell_type": "code",
   "execution_count": 2,
   "metadata": {},
   "outputs": [
    {
     "name": "stdout",
     "output_type": "stream",
     "text": [
      "Shorten ID: zLg6wl\n",
      "Actual ID: 23451699527\n"
     ]
    }
   ],
   "source": [
    "# URL shortener\n",
    "\n",
    "def tenToBase(value, base, mapper):\n",
    "    output = ''\n",
    "    while value!=0:\n",
    "        temp = value%base\n",
    "        value = value//base\n",
    "        output += mapper[temp]\n",
    "    output = output[::-1]\n",
    "    return output\n",
    "\n",
    "def baseToTen(base, value, mapper):\n",
    "    output = 0\n",
    "    for i, j in enumerate(value):\n",
    "        index = mapper.index(j)\n",
    "        output += index*(base**(len(value)-1-i))\n",
    "    return output\n",
    "        \n",
    "def urlShortener(id):\n",
    "    mapper = \"abcdefghijklmnopqrstuvwxyzABCDEFGHIJKLMNOPQRSTUVWXYZ0123456789\"\n",
    "    shorten = tenToBase(id, 62, mapper)\n",
    "    decode = baseToTen(62, shorten, mapper)\n",
    "    print(\"Shorten ID:\", shorten)\n",
    "    print(\"Actual ID:\", decode)\n",
    "    \n",
    "urlShortener(23451699527)"
   ]
  },
  {
   "cell_type": "code",
   "execution_count": 156,
   "metadata": {},
   "outputs": [
    {
     "data": {
      "text/plain": [
       "True"
      ]
     },
     "execution_count": 156,
     "metadata": {},
     "output_type": "execute_result"
    }
   ],
   "source": [
    "all([2, 3, 4, 5])"
   ]
  },
  {
   "cell_type": "code",
   "execution_count": 157,
   "metadata": {},
   "outputs": [
    {
     "data": {
      "text/plain": [
       "140"
      ]
     },
     "execution_count": 157,
     "metadata": {},
     "output_type": "execute_result"
    }
   ],
   "source": [
    "def max_pairwise_product(numbers):\n",
    "    maxi1 = 0\n",
    "    maxi2 = 0\n",
    "    \n",
    "    for i in numbers:\n",
    "        if i > maxi1:\n",
    "            if i > maxi2:\n",
    "                maxi1 = maxi2\n",
    "                maxi2 = i\n",
    "            else:\n",
    "                maxi1 = i\n",
    "    \n",
    "    return maxi1*maxi2\n",
    "\n",
    "max_pairwise_product([7, 5, 14, 2, 8, 8, 10, 1, 2, 3])"
   ]
  },
  {
   "cell_type": "code",
   "execution_count": 158,
   "metadata": {},
   "outputs": [
    {
     "data": {
      "text/plain": [
       "6"
      ]
     },
     "execution_count": 158,
     "metadata": {},
     "output_type": "execute_result"
    }
   ],
   "source": [
    "def minNoOfOp(n):\n",
    "    count = 0\n",
    "    a = 1\n",
    "    while a != n:\n",
    "        if a<n:\n",
    "            a *= 2\n",
    "            count += 1\n",
    "        elif a>n:\n",
    "            a //= 3\n",
    "            count += 1\n",
    "        else:\n",
    "            return count\n",
    "    return count\n",
    "\n",
    "minNoOfOp(10)"
   ]
  },
  {
   "cell_type": "code",
   "execution_count": 159,
   "metadata": {},
   "outputs": [
    {
     "data": {
      "text/plain": [
       "-2147483648"
      ]
     },
     "execution_count": 159,
     "metadata": {},
     "output_type": "execute_result"
    }
   ],
   "source": [
    "def divide(dividend, divisor):\n",
    "    if abs(divisor) == 1:\n",
    "        if (divisor<0 and dividend>0) or (dividend<0 and divisor>0):\n",
    "            return -dividend\n",
    "        else:\n",
    "            return dividend\n",
    "    count = 0\n",
    "    inc = 0\n",
    "    while True:\n",
    "        if inc+abs(divisor) > abs(dividend):\n",
    "            break\n",
    "        count += 1\n",
    "        inc += abs(divisor)\n",
    "            \n",
    "    if (divisor<0 and dividend>0) or (dividend<0 and divisor>0):\n",
    "        return -count\n",
    "    else:\n",
    "        return count\n",
    "    \n",
    "divide(-2147483648, -1)"
   ]
  },
  {
   "cell_type": "code",
   "execution_count": 26,
   "metadata": {},
   "outputs": [
    {
     "data": {
      "text/plain": [
       "'acdb'"
      ]
     },
     "execution_count": 26,
     "metadata": {},
     "output_type": "execute_result"
    }
   ],
   "source": [
    "def candyCrush1D(s):\n",
    "    output = \"\"\n",
    "    stack = []\n",
    "\n",
    "    for i in range(len(s)):\n",
    "        if not stack:\n",
    "            stack.append([s[i], 1])\n",
    "        elif stack[-1][0]==s[i]:\n",
    "            stack[-1][1] += 1\n",
    "            try:\n",
    "                if (s[i+1] != s[i]) and stack[-1][1] > 2:\n",
    "                    stack.pop()\n",
    "            except:\n",
    "                if stack[-1][1] > 2:\n",
    "                    stack.pop()\n",
    "        else:\n",
    "            stack.append([s[i], 1])\n",
    "\n",
    "    return \"\".join([x[0] for x in stack])\n",
    "\n",
    "candyCrush1D(\"aaabbbacdb\")"
   ]
  },
  {
   "cell_type": "code",
   "execution_count": 163,
   "metadata": {},
   "outputs": [
    {
     "name": "stdout",
     "output_type": "stream",
     "text": [
      "4\n"
     ]
    }
   ],
   "source": [
    "def groupingChildren(arr):\n",
    "    i = 0\n",
    "    count = 0\n",
    "    while i <= len(arr)-1:\n",
    "        l = arr[i]\n",
    "        r = l+1\n",
    "        count += 1\n",
    "        while (i<=len(arr)-1) and (arr[i]<= r):\n",
    "            i += 1\n",
    "    return count\n",
    "\n",
    "print(groupingChildren([5, 5.5, 5.8, 6, 6.5, 6.7, 6.8 , 6.9, 7, 7.5, 8, 8.9, 9, 10, 11]))"
   ]
  },
  {
   "cell_type": "code",
   "execution_count": 131,
   "metadata": {},
   "outputs": [
    {
     "name": "stdout",
     "output_type": "stream",
     "text": [
      "7\n",
      "0\n",
      "8\n"
     ]
    }
   ],
   "source": [
    "l1 = n5\n",
    "l2 = n2\n",
    "carry = 0\n",
    "prev = None\n",
    "while (l1) and (l2):\n",
    "    summer = l1.val+l2.val+carry\n",
    "    if summer > 9:\n",
    "        carry = 1\n",
    "    else:\n",
    "        carry = 0\n",
    "    l3 = Node((summer)%10, prev)\n",
    "    l1 = l1.next\n",
    "    l2 = l2.next\n",
    "    prev = l3\n",
    "\n",
    "prev = None\n",
    "while l3:\n",
    "    l4 = Node(l3.val, prev)\n",
    "    l3 = l3.next\n",
    "    prev = l4\n",
    "    \n",
    "while l4:\n",
    "    print(l4.val)\n",
    "    l4 = l4.next\n"
   ]
  },
  {
   "cell_type": "code",
   "execution_count": 95,
   "metadata": {},
   "outputs": [
    {
     "name": "stdout",
     "output_type": "stream",
     "text": [
      "2\n",
      "4\n",
      "3\n"
     ]
    }
   ],
   "source": [
    "class Node:\n",
    "    def __init__(self,val,next):\n",
    "        self.val = val\n",
    "        self.next = next\n",
    "\n",
    "def traverse(node):\n",
    "    currentNode = node\n",
    "    while currentNode:\n",
    "        print(currentNode.val)\n",
    "        currentNode = currentNode.next\n",
    "\n",
    "n3 = Node(3,None)\n",
    "n4 = Node(4,n3)\n",
    "n5 = Node(2,n4)\n",
    "\n",
    "n0 = Node(4,None)\n",
    "n1 = Node(6,n0)\n",
    "n2 = Node(5,n1)\n",
    "    \n",
    "traverse(n5)"
   ]
  },
  {
   "cell_type": "code",
   "execution_count": 209,
   "metadata": {},
   "outputs": [
    {
     "name": "stdout",
     "output_type": "stream",
     "text": [
      "['11100100', '10111101', '10100000', '11100101', '10100101', '10111101', '00001101', '00001010']\n"
     ]
    },
    {
     "data": {
      "text/plain": [
       "False"
      ]
     },
     "execution_count": 209,
     "metadata": {},
     "output_type": "execute_result"
    }
   ],
   "source": [
    "def tenToBase(value, base):\n",
    "        output = ''\n",
    "        count = 0\n",
    "        while value!=0:\n",
    "            temp = value%base\n",
    "            value = value//base\n",
    "            output += str(temp)\n",
    "            count += 1\n",
    "        if count < 8:\n",
    "            output += \"0\"*(8-count)\n",
    "        output = output[::-1]\n",
    "        return output\n",
    "\n",
    "def validUtf8(data):\n",
    "    data = [tenToBase(x, 2) for x in data]\n",
    "    print(data)\n",
    "    oneCount = 0\n",
    "    for i in data[0]:\n",
    "        if i == '0':\n",
    "            break\n",
    "        else:\n",
    "            oneCount += 1\n",
    "\n",
    "    if oneCount == 0:\n",
    "        return True\n",
    "    \n",
    "    if oneCount == 1: \n",
    "        return False\n",
    "    \n",
    "    if oneCount > 4:\n",
    "        return False\n",
    "\n",
    "    if len(data[1:oneCount])+1 == oneCount:\n",
    "        for i in data[1:oneCount]:\n",
    "            if i[:2] != \"10\":\n",
    "                return False\n",
    "        for i in data[oneCount:]:\n",
    "            if oneCount == 4:\n",
    "                if i[:4] != \"0001\":\n",
    "                    return False\n",
    "            else:\n",
    "                if i[:4] != \"0000\":\n",
    "                    return False\n",
    "    else:\n",
    "        return False\n",
    "\n",
    "    return True\n",
    "\n",
    "validUtf8(\n",
    "[228,189,160,229,165,189,13,10])"
   ]
  },
  {
   "cell_type": "code",
   "execution_count": 317,
   "metadata": {},
   "outputs": [
    {
     "data": {
      "text/plain": [
       "' Five Hundred Thirty One Trillion Seven Hundred Fifty Nine Million Four Hundred Fifty Three ThousandNine'"
      ]
     },
     "execution_count": 317,
     "metadata": {},
     "output_type": "execute_result"
    }
   ],
   "source": [
    "def numberToWords(num):\n",
    "        units = {'1':'One', '2':'Two', '3':'Three', '4':'Four', '5':'Five', '6':'Six', '7':'Seven', '8':'Eight', '9':'Nine'}\n",
    "        tens = {'2':'Twenty', '3':'Thirty', '4':'Forty', '5':'Fifty', '6':'Sixty', '7':'Seventy', '8':'Eighty', '9':'Ninety', '10':'Ten', '11':'Eleven', '12':'Twelve', '13':'Thirteen', '14':'Fourteen', '15':'Fifteen', '16':'Sixteen', '17':'Seventeen', '18':'Eighteen', '19':'Nineteen', }\n",
    "        threes = {1:'Thousand', 2:'Million', 3:'Trillion'}\n",
    "        s = str(num)\n",
    "        r = len(s)%3\n",
    "        if r==0:\n",
    "            pass\n",
    "        else:\n",
    "            s = ('0'*(3-r) + s)\n",
    "        d = len(s)//3\n",
    "        start = d-1\n",
    "        output = \"\"\n",
    "        prev = False\n",
    "        inc = 1\n",
    "        three_check = False\n",
    "        \n",
    "        for i in range(0, len(s), 3):\n",
    "            current = s[i:i+3]\n",
    "            check_1st = True\n",
    "            for j, k in enumerate(current):\n",
    "                if k=='0':\n",
    "                    check_1st = False\n",
    "                    continue\n",
    "                if j==0:\n",
    "                    if not three_check:\n",
    "                        output += \" \"\n",
    "                    three_check = True\n",
    "                    output += units[k]+\" Hundred\"\n",
    "                if j==1:\n",
    "                    three_check = True\n",
    "                    if check_1st:\n",
    "                        output += \" \"\n",
    "                    if k!='1':\n",
    "                        output += tens[k]\n",
    "                    else:\n",
    "                        output += tens[k+current[j+1]]\n",
    "                        prev = True\n",
    "                if j==2:\n",
    "                    three_check = True\n",
    "                    if prev==True:\n",
    "                        prev = False\n",
    "                        continue\n",
    "                    if check_1st:\n",
    "                        output += \" \"\n",
    "                    output += units[k]\n",
    "            if start!=0:\n",
    "                if three_check:\n",
    "                    three_check = False\n",
    "                    output += \" \"+threes[start]\n",
    "            else:\n",
    "                pass\n",
    "            start -= 1\n",
    "            inc += 1\n",
    "            \n",
    "        return output\n",
    "    \n",
    "# numberToWords(1759453019)\n",
    "numberToWords(531759453009)\n",
    "# numberToWords(1000)\n",
    "# numberToWords(1000000)"
   ]
  },
  {
   "cell_type": "code",
   "execution_count": 16,
   "metadata": {},
   "outputs": [
    {
     "name": "stdout",
     "output_type": "stream",
     "text": [
      "{3.0: 60, 2.0: 100, 4.0: 120}\n"
     ]
    }
   ],
   "source": [
    "def get_optimal_value(capacity, weights, values):\n",
    "    value = 0.\n",
    "    ratio = {j/i:j for i, j in zip(weights, values)}\n",
    "    values.sort()\n",
    "    while capacity>0:\n",
    "        \n",
    "\n",
    "#     return value\n",
    "\n",
    "get_optimal_value(0, [20, 50, 30], [60, 100, 120])"
   ]
  },
  {
   "cell_type": "code",
   "execution_count": 42,
   "metadata": {},
   "outputs": [
    {
     "data": {
      "text/plain": [
       "'(()(this is (jlk)(a test)))'"
      ]
     },
     "execution_count": 42,
     "metadata": {},
     "output_type": "execute_result"
    }
   ],
   "source": [
    "def removeParenthesis(string):\n",
    "    stack = []\n",
    "    for i, j in enumerate(string):\n",
    "        if j=='(':\n",
    "            stack.append(i)\n",
    "        elif j==')':\n",
    "            if (len(stack)>0) and (string[stack[-1]]=='('):\n",
    "                stack.pop()\n",
    "            else:\n",
    "                stack.append(i)\n",
    "        else:\n",
    "            continue\n",
    "        \n",
    "    return ''.join([string[i] for i in range(len(string)) if i not in stack])\n",
    "      \n",
    "removeParenthesis(\"))((()(this is (jlk)(a test)))\")"
   ]
  },
  {
   "cell_type": "code",
   "execution_count": 44,
   "metadata": {},
   "outputs": [
    {
     "data": {
      "text/plain": [
       "'Palindrome'"
      ]
     },
     "execution_count": 44,
     "metadata": {},
     "output_type": "execute_result"
    }
   ],
   "source": [
    "def palindrome_no(num):\n",
    "    num = str(num)\n",
    "    for i in range(len(num)//2):\n",
    "        if num[i]!=num[-1-i]:\n",
    "            return \"Not palindrome\"\n",
    "    return \"Palindrome\"\n",
    "\n",
    "palindrome_no(212)"
   ]
  },
  {
   "cell_type": "code",
   "execution_count": 96,
   "metadata": {},
   "outputs": [],
   "source": [
    "def subset(goal,initial):\n",
    "    count=0\n",
    "    start=goal[0]\n",
    "    result=[\"\"]\n",
    "    string=\"\"\n",
    "    for i in initial:\n",
    "        result+=[j+i for j in result]\n",
    "    dic=set(result)\n",
    "    print(dic)\n",
    "    if start not in dic:\n",
    "            print(-1)\n",
    "            return\n",
    "    for i in goal:\n",
    "        if i not in dic:\n",
    "            print(-1)\n",
    "            return\n",
    "        else:\n",
    "            if string not in dic:\n",
    "                string=string[-1]\n",
    "                count+=1\n",
    "            else:\n",
    "                \n",
    "                string+=i\n",
    "    print(count+1)"
   ]
  },
  {
   "cell_type": "code",
   "execution_count": 97,
   "metadata": {},
   "outputs": [
    {
     "name": "stdout",
     "output_type": "stream",
     "text": [
      "{'', 'bc', 'ab', 'ac', 'b', 'abc', 'c', 'a'}\n",
      "2\n"
     ]
    }
   ],
   "source": [
    "subset(\"abcbc\",\"abc\")"
   ]
  },
  {
   "cell_type": "code",
   "execution_count": 21,
   "metadata": {},
   "outputs": [
    {
     "data": {
      "text/plain": [
       "False"
      ]
     },
     "execution_count": 21,
     "metadata": {},
     "output_type": "execute_result"
    }
   ],
   "source": [
    "def isHappy(n):\n",
    "    new_val = 0\n",
    "    s=set() \n",
    "    s.add(n) \n",
    "    while n!=1:\n",
    "        for i in str(n):\n",
    "            new_val += int(i)**2\n",
    "        n = new_val\n",
    "        if n in s:\n",
    "            return False\n",
    "        new_val = 0\n",
    "        s.add(n)\n",
    "    return True\n",
    "    \n",
    "isHappy(3)"
   ]
  },
  {
   "cell_type": "code",
   "execution_count": 23,
   "metadata": {},
   "outputs": [
    {
     "data": {
      "text/plain": [
       "6"
      ]
     },
     "execution_count": 23,
     "metadata": {},
     "output_type": "execute_result"
    }
   ],
   "source": [
    "def maxSubArray(nums):\n",
    "    if len(nums)==1:\n",
    "            return nums[0]\n",
    "    max_sum = 0\n",
    "    max_sum_far = float('inf')*-1\n",
    "    for i in nums:\n",
    "        max_sum += i\n",
    "        if max_sum > max_sum_far:\n",
    "            max_sum_far = max_sum\n",
    "        if max_sum < 0:\n",
    "            max_sum = 0\n",
    "    return max_sum_far\n",
    "\n",
    "maxSubArray([-2,1,-3,4,-1,2,1,-5,4])"
   ]
  },
  {
   "cell_type": "code",
   "execution_count": 78,
   "metadata": {},
   "outputs": [
    {
     "name": "stdout",
     "output_type": "stream",
     "text": [
      "[0]\n",
      "[1, 0, 0, 3, 12]\n",
      "[0, 0]\n",
      "[1, 3, 0, 0, 12]\n",
      "[0, 0]\n"
     ]
    },
    {
     "data": {
      "text/plain": [
       "[1, 3, 12, 0, 0]"
      ]
     },
     "execution_count": 78,
     "metadata": {},
     "output_type": "execute_result"
    }
   ],
   "source": [
    "def moveZeroes(nums):\n",
    "    if len(nums)==1:\n",
    "        return nums\n",
    "    condition = False\n",
    "    start = None\n",
    "    i = 0\n",
    "    while i < len(nums):\n",
    "        if nums[i] == 0:\n",
    "            if condition == True:\n",
    "                i += 1\n",
    "                continue\n",
    "            else:\n",
    "                start = i\n",
    "                condition = True\n",
    "                i += 1\n",
    "        else:\n",
    "            if start == None:\n",
    "                i += 1\n",
    "                condition = False\n",
    "            else:\n",
    "                cut = nums[start:i]\n",
    "                print(cut)\n",
    "                nums[start] = nums[i]\n",
    "                nums[start+1:start+1+len(cut)] = cut\n",
    "                start += 1\n",
    "                i = start+len(cut)\n",
    "                try:\n",
    "                    if nums[i]==0:\n",
    "                        condition = True\n",
    "                    else:\n",
    "                        condition = False\n",
    "                except:\n",
    "                    continue\n",
    "                print(nums)\n",
    "            \n",
    "    return nums\n",
    "\n",
    "moveZeroes([0,1,0,3,12])"
   ]
  },
  {
   "cell_type": "code",
   "execution_count": 92,
   "metadata": {},
   "outputs": [
    {
     "data": {
      "text/plain": [
       "7"
      ]
     },
     "execution_count": 92,
     "metadata": {},
     "output_type": "execute_result"
    }
   ],
   "source": [
    "def maxProfit(prices):\n",
    "    maxi = 0\n",
    "    mini = prices[0]\n",
    "    for i in range(len(prices)-1):\n",
    "        if prices[i] > prices[i+1]:\n",
    "            diff = prices[i]-mini\n",
    "            maxi += diff\n",
    "            mini = prices[i+1]\n",
    "        else:\n",
    "            continue\n",
    "    maxi += prices[-1]-mini\n",
    "    return maxi\n",
    "            \n",
    "maxProfit([7,1,5,3,6,4])"
   ]
  },
  {
   "cell_type": "code",
   "execution_count": 105,
   "metadata": {},
   "outputs": [
    {
     "data": {
      "text/plain": [
       "[['eat', 'tea', 'ate'], ['tan', 'nat'], ['bat']]"
      ]
     },
     "execution_count": 105,
     "metadata": {},
     "output_type": "execute_result"
    }
   ],
   "source": [
    "def groupAnagrams(strs):\n",
    "    dic = {}\n",
    "    for i in strs:\n",
    "        a = ''.join(sorted(i))\n",
    "        if a in dic:\n",
    "            dic[a].append(i)\n",
    "        else:\n",
    "            dic[a] = [i]\n",
    "    return [dic[x] for x in dic]\n",
    "\n",
    "groupAnagrams([\"eat\", \"tea\", \"tan\", \"ate\", \"nat\", \"bat\"])"
   ]
  },
  {
   "cell_type": "code",
   "execution_count": 7,
   "metadata": {},
   "outputs": [],
   "source": [
    "def f():\n",
    "    f()\n",
    "    return 42"
   ]
  },
  {
   "cell_type": "code",
   "execution_count": 10,
   "metadata": {},
   "outputs": [],
   "source": [
    "class test():\n",
    "    id = 0\n",
    "    def __init__(self, id):\n",
    "        self.id = id\n",
    "        id = 2"
   ]
  },
  {
   "cell_type": "code",
   "execution_count": 11,
   "metadata": {},
   "outputs": [
    {
     "data": {
      "text/plain": [
       "1"
      ]
     },
     "execution_count": 11,
     "metadata": {},
     "output_type": "execute_result"
    }
   ],
   "source": [
    "t = test(1)\n",
    "t.id"
   ]
  },
  {
   "cell_type": "code",
   "execution_count": 41,
   "metadata": {},
   "outputs": [],
   "source": [
    "def mostPopularNumber(arr, length):\n",
    "    dic = {}\n",
    "    for i in arr:\n",
    "        if i in dic:\n",
    "            dic[i] += 1\n",
    "        else:\n",
    "            dic[i] = 1\n",
    "            \n",
    "    counter = 0\n",
    "    for i in dic:\n",
    "        if dic[i] > counter:\n",
    "            counter = dic[i]\n",
    "    \n",
    "    array_list = []\n",
    "    for i in dic:\n",
    "        if dic[i] == counter:\n",
    "            array_list.append(i)\n",
    "        \n",
    "    return sorted(array_list)[0]"
   ]
  },
  {
   "cell_type": "code",
   "execution_count": 42,
   "metadata": {},
   "outputs": [
    {
     "data": {
      "text/plain": [
       "101"
      ]
     },
     "execution_count": 42,
     "metadata": {},
     "output_type": "execute_result"
    }
   ],
   "source": [
    "mostPopularNumber([22, 101, 102, 101, 102, 525, 88], 7)"
   ]
  },
  {
   "cell_type": "code",
   "execution_count": 4,
   "metadata": {},
   "outputs": [
    {
     "data": {
      "text/plain": [
       "set()"
      ]
     },
     "execution_count": 4,
     "metadata": {},
     "output_type": "execute_result"
    }
   ],
   "source": [
    "set()"
   ]
  },
  {
   "cell_type": "code",
   "execution_count": null,
   "metadata": {},
   "outputs": [],
   "source": [
    "[]"
   ]
  }
 ],
 "metadata": {
  "kernelspec": {
   "display_name": "Python 3",
   "language": "python",
   "name": "python3"
  },
  "language_info": {
   "codemirror_mode": {
    "name": "ipython",
    "version": 3
   },
   "file_extension": ".py",
   "mimetype": "text/x-python",
   "name": "python",
   "nbconvert_exporter": "python",
   "pygments_lexer": "ipython3",
   "version": "3.7.3"
  }
 },
 "nbformat": 4,
 "nbformat_minor": 2
}
