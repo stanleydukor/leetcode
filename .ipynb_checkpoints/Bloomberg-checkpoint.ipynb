{
 "cells": [
  {
   "cell_type": "markdown",
   "metadata": {},
   "source": [
    "## Array and Strings"
   ]
  },
  {
   "cell_type": "markdown",
   "metadata": {},
   "source": [
    "### Two Sum"
   ]
  },
  {
   "cell_type": "code",
   "execution_count": 3,
   "metadata": {},
   "outputs": [
    {
     "data": {
      "text/plain": [
       "[0, 1]"
      ]
     },
     "execution_count": 3,
     "metadata": {},
     "output_type": "execute_result"
    }
   ],
   "source": [
    "def twoSum(nums, target):\n",
    "    unique = set(nums)\n",
    "    for j, i in enumerate(nums):\n",
    "        diff = target-i\n",
    "        if diff in unique:\n",
    "            pos = nums.index(diff)\n",
    "            if pos != j:\n",
    "                return [j, pos]\n",
    "            \n",
    "twoSum([2, 7, 11, 15], 9)            "
   ]
  },
  {
   "cell_type": "markdown",
   "metadata": {},
   "source": [
    "### Longest Substring Without Repeating Characters"
   ]
  },
  {
   "cell_type": "code",
   "execution_count": 5,
   "metadata": {},
   "outputs": [
    {
     "data": {
      "text/plain": [
       "3"
      ]
     },
     "execution_count": 5,
     "metadata": {},
     "output_type": "execute_result"
    }
   ],
   "source": [
    "def lengthOfLongestSubstring(s):\n",
    "        checker = {}\n",
    "        counter = 0\n",
    "        maxi = float('inf')*-1\n",
    "        prev = float('inf')*-1\n",
    "        \n",
    "        if not s:\n",
    "            return 0\n",
    "        \n",
    "        for index, value in enumerate(s):\n",
    "            if value in checker:\n",
    "                if checker[value] < prev:\n",
    "                    checker[value] = index\n",
    "                    counter += 1\n",
    "                else:\n",
    "                    if counter > maxi:\n",
    "                        maxi = counter\n",
    "                    counter = index-checker[value]\n",
    "                    prev = checker[value]\n",
    "                    checker[value] = index\n",
    "            else:\n",
    "                checker[value] = index\n",
    "                counter += 1\n",
    "        \n",
    "        if counter > maxi:\n",
    "            maxi = counter\n",
    "            \n",
    "        return maxi\n",
    "\n",
    "lengthOfLongestSubstring(\"abcabcbb\")"
   ]
  },
  {
   "cell_type": "markdown",
   "metadata": {},
   "source": [
    "### 3Sum"
   ]
  },
  {
   "cell_type": "code",
   "execution_count": null,
   "metadata": {},
   "outputs": [],
   "source": []
  }
 ],
 "metadata": {
  "kernelspec": {
   "display_name": "Python 3",
   "language": "python",
   "name": "python3"
  },
  "language_info": {
   "codemirror_mode": {
    "name": "ipython",
    "version": 3
   },
   "file_extension": ".py",
   "mimetype": "text/x-python",
   "name": "python",
   "nbconvert_exporter": "python",
   "pygments_lexer": "ipython3",
   "version": "3.7.6"
  }
 },
 "nbformat": 4,
 "nbformat_minor": 4
}
