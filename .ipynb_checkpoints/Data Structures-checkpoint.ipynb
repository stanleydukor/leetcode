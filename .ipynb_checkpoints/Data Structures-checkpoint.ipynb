{
 "cells": [
  {
   "cell_type": "markdown",
   "metadata": {},
   "source": [
    "## LinkedList"
   ]
  },
  {
   "cell_type": "code",
   "execution_count": null,
   "metadata": {},
   "outputs": [],
   "source": [
    "class Node(object):\n",
    "    def __init__(self, data):\n",
    "        self.data = data;\n",
    "        self.nextNode = None;\n",
    "        \n",
    "class LinkedList(object):\n",
    "    def __init__(self):\n",
    "        self.head = None; # initializing the first node in the list\n",
    "        self.size = 0; # initialize list size\n",
    "        \n",
    "    # Insert to beginning\n",
    "    def insertStart(self, data):\n",
    "        self.size = self.size + 1; # increment list size\n",
    "        newNode = Node(data); # creating a new node\n",
    "        \n",
    "        if not self.head: # if newNode is the first node,\n",
    "            self.head = newNode; # make newNode the first node\n",
    "        else:\n",
    "            newNode.nextNode = self.head; # make newNode point to the previous first node\n",
    "            self.head = newNode; # make newNode the first node\n",
    "            \n",
    "    # O(1)\n",
    "    def size(self):\n",
    "        return self.size;\n",
    "    \n",
    "    # O(N) not good!!\n",
    "    def size2(self):\n",
    "        actualNode = self.head;\n",
    "        size = 0;\n",
    "        \n",
    "        while actualNode is not None:\n",
    "            size += 1;\n",
    "            actualNode = actualNode.nextNode;\n",
    "        return size;"
   ]
  },
  {
   "cell_type": "code",
   "execution_count": null,
   "metadata": {},
   "outputs": [],
   "source": [
    "model = LinkedList()\n",
    "model.insertStart('Boy')\n",
    "model.insertStart('Girl')\n",
    "model.insertStart('Child')\n",
    "print(model.size)"
   ]
  },
  {
   "cell_type": "code",
   "execution_count": null,
   "metadata": {},
   "outputs": [],
   "source": [
    "while model.head is not None:\n",
    "    if model.head.nextNode == None:\n",
    "        print(model.head.data, 'to', model.head.nextNode)\n",
    "    else:\n",
    "        print(model.head.data, 'to', model.head.nextNode.data)\n",
    "    model.head = model.head.nextNode"
   ]
  },
  {
   "cell_type": "markdown",
   "metadata": {},
   "source": [
    "## Binary Search Trees (BSTs)"
   ]
  },
  {
   "cell_type": "code",
   "execution_count": null,
   "metadata": {},
   "outputs": [],
   "source": []
  }
 ],
 "metadata": {
  "kernelspec": {
   "display_name": "Python 3",
   "language": "python",
   "name": "python3"
  },
  "language_info": {
   "codemirror_mode": {
    "name": "ipython",
    "version": 3
   },
   "file_extension": ".py",
   "mimetype": "text/x-python",
   "name": "python",
   "nbconvert_exporter": "python",
   "pygments_lexer": "ipython3",
   "version": "3.7.3"
  }
 },
 "nbformat": 4,
 "nbformat_minor": 2
}
