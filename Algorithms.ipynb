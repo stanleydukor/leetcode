{
 "cells": [
  {
   "cell_type": "markdown",
   "metadata": {},
   "source": [
    "## Sort Algorithms"
   ]
  },
  {
   "cell_type": "code",
   "execution_count": 1,
   "metadata": {},
   "outputs": [
    {
     "data": {
      "text/plain": [
       "[2, 3, 3, 4, 5, 6, 7, 8, 54, 645]"
      ]
     },
     "execution_count": 1,
     "metadata": {},
     "output_type": "execute_result"
    }
   ],
   "source": [
    "# Insertion Sort\n",
    "\n",
    "def insertionSort(arr):\n",
    "    for i in range(1, len(arr)):\n",
    "        key = arr[i]\n",
    "        j = i-1\n",
    "        while(j>=0 and arr[j]>key):\n",
    "            arr[j+1] = arr[j]\n",
    "            j -= 1\n",
    "        arr[j+1] = key\n",
    "    return arr\n",
    "\n",
    "insertionSort([4,5,8,3,2,7,54,645,3,6])"
   ]
  },
  {
   "cell_type": "code",
   "execution_count": 2,
   "metadata": {},
   "outputs": [
    {
     "data": {
      "text/plain": [
       "[2, 3, 3, 4, 5, 6, 7, 8, 54, 645]"
      ]
     },
     "execution_count": 2,
     "metadata": {},
     "output_type": "execute_result"
    }
   ],
   "source": [
    "# Selection Sort\n",
    "\n",
    "def selectionSort(arr):\n",
    "    i = 0\n",
    "    index = 0\n",
    "    while(i!=len(arr)): \n",
    "        mini = float(\"inf\")\n",
    "        for j in range(i, len(arr)):\n",
    "            if arr[j] < mini:\n",
    "                mini = arr[j]\n",
    "                index = j\n",
    "        arr[index] = arr[i]\n",
    "        arr[i] = mini\n",
    "        i += 1\n",
    "    return arr\n",
    "\n",
    "selectionSort([4,5,8,3,2,7,54,645,3,6])         "
   ]
  },
  {
   "cell_type": "markdown",
   "metadata": {},
   "source": [
    "## Recursion"
   ]
  },
  {
   "cell_type": "code",
   "execution_count": 10,
   "metadata": {},
   "outputs": [
    {
     "name": "stdout",
     "output_type": "stream",
     "text": [
      "4\n",
      "3\n",
      "2\n",
      "1\n"
     ]
    }
   ],
   "source": [
    "# Reverse Linkedlist\n",
    "\n",
    "class Node:\n",
    "    def __init__(self,val,nxt):\n",
    "        self.val = val\n",
    "        self.nxt = nxt  \n",
    "def reverse(node):\n",
    "    if not node.nxt:\n",
    "        print(node.val)\n",
    "        return \n",
    "    reverse(node.nxt)\n",
    "    print(node.val)\n",
    "\n",
    "n0 = Node(4,None)\n",
    "n1 = Node(3,n0)\n",
    "n2 = Node(2,n1)\n",
    "n3 = Node(1,n2)\n",
    "\n",
    "reverse(n3)"
   ]
  },
  {
   "cell_type": "code",
   "execution_count": 8,
   "metadata": {},
   "outputs": [
    {
     "data": {
      "text/plain": [
       "55"
      ]
     },
     "execution_count": 8,
     "metadata": {},
     "output_type": "execute_result"
    }
   ],
   "source": [
    "# Nth Fibonacci Number \n",
    "\n",
    "def calc_fib(n):\n",
    "    if n<0:\n",
    "        return \"Incorrect input\"\n",
    "    elif n==0:\n",
    "        return 0\n",
    "    elif n==1:\n",
    "        return 1\n",
    "    else:\n",
    "        return calc_fib(n-1) + calc_fib(n-2)\n",
    "\n",
    "calc_fib(10)"
   ]
  },
  {
   "cell_type": "markdown",
   "metadata": {},
   "source": [
    "## Dynamic Programming"
   ]
  },
  {
   "cell_type": "code",
   "execution_count": 3,
   "metadata": {},
   "outputs": [
    {
     "name": "stdout",
     "output_type": "stream",
     "text": [
      "10\n",
      "55\n"
     ]
    }
   ],
   "source": [
    "# Nth Fibonacci Number \n",
    "\n",
    "def calc_fib(n):\n",
    "    if (n < 1):\n",
    "        return n\n",
    "\n",
    "    prev = 0\n",
    "    curr = 1\n",
    "\n",
    "    for i in range(n - 1):\n",
    "        prev, curr = curr, (prev + curr)\n",
    "\n",
    "    return curr\n",
    "\n",
    "n = int(input())\n",
    "print(calc_fib(n))"
   ]
  },
  {
   "cell_type": "code",
   "execution_count": null,
   "metadata": {},
   "outputs": [],
   "source": []
  }
 ],
 "metadata": {
  "kernelspec": {
   "display_name": "Python 3",
   "language": "python",
   "name": "python3"
  },
  "language_info": {
   "codemirror_mode": {
    "name": "ipython",
    "version": 3
   },
   "file_extension": ".py",
   "mimetype": "text/x-python",
   "name": "python",
   "nbconvert_exporter": "python",
   "pygments_lexer": "ipython3",
   "version": "3.7.3"
  }
 },
 "nbformat": 4,
 "nbformat_minor": 2
}
